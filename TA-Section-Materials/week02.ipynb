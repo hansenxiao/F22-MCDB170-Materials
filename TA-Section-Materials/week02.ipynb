{
 "cells": [
  {
   "cell_type": "markdown",
   "id": "0717756b-f42f-43a3-ba18-a9ea4feb9ef3",
   "metadata": {},
   "source": [
    "# MCDB TA Section 02"
   ]
  },
  {
   "cell_type": "markdown",
   "id": "0c3fd5e7-54c4-4476-be39-da100e8fd96c",
   "metadata": {},
   "source": [
    "## TA Office hours: Remote, zoom link on gauchospace\n",
    "\n",
    "Mon 2:30 pm-3:30 pm,\n",
    "\n",
    "Wed 2:30 pm- 3:30 pm,"
   ]
  },
  {
   "cell_type": "markdown",
   "id": "3fd917c4-4baf-451e-ba5e-94a87bccb91c",
   "metadata": {},
   "source": [
    "## Today's schedule\n",
    "\n",
    "1. How to submit HW?\n",
    "\n",
    "2. Week 02 practice material"
   ]
  },
  {
   "cell_type": "markdown",
   "id": "fa5d577c-d5aa-4248-b42b-3ba04ccd95d8",
   "metadata": {},
   "source": [
    "### Submit homework\n",
    "```\n",
    "cd\n",
    "cd <YOUR_HOMEWORK_DIRECTORY>\n",
    "git add --all\n",
    "git commit –m \"some message\"\n",
    "git push\n",
    "```"
   ]
  },
  {
   "cell_type": "markdown",
   "id": "42d3485e-b2df-45bc-ab50-ce5ba691badc",
   "metadata": {},
   "source": [
    "## Refer to week02_practice notebook in week02 folder of section materials"
   ]
  }
 ],
 "metadata": {
  "kernelspec": {
   "display_name": "Python 3 (ipykernel)",
   "language": "python",
   "name": "python3"
  },
  "language_info": {
   "codemirror_mode": {
    "name": "ipython",
    "version": 3
   },
   "file_extension": ".py",
   "mimetype": "text/x-python",
   "name": "python",
   "nbconvert_exporter": "python",
   "pygments_lexer": "ipython3",
   "version": "3.10.6"
  }
 },
 "nbformat": 4,
 "nbformat_minor": 5
}
