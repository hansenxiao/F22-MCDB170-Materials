{
 "cells": [
  {
   "cell_type": "markdown",
   "id": "ecfc0acd-7740-4d3a-ac53-0f75dedbf467",
   "metadata": {},
   "source": [
    "# MCDB TA Section 01"
   ]
  },
  {
   "cell_type": "markdown",
   "id": "0bc151ee-5072-401f-88c4-3ec1cdc48c6b",
   "metadata": {},
   "source": [
    "## TA Office hours: Remote, zoom link on gauchospace\n",
    "\n",
    "Mon 2:30 pm-3:30 pm,\n",
    "\n",
    "Wed 2:30 pm- 3:30 pm,"
   ]
  },
  {
   "cell_type": "markdown",
   "id": "c68c7020-fe8a-488f-8cb4-ca79da7e1743",
   "metadata": {},
   "source": [
    "## Today's schedule\n",
    "\n",
    "1. How to access HW and Course Materials?\n",
    "\n",
    "2. Use unix command and git\n",
    "\n",
    "3. python `print`"
   ]
  },
  {
   "cell_type": "markdown",
   "id": "97a65309-f8fe-427b-b9e2-a8318dac65ed",
   "metadata": {},
   "source": [
    "## How to access HW?\n",
    "\n",
    "1. Follow steps in https://github.com/sungsoo-ucsb-classrooms/F22-MCDB170-Materials/blob/main/Using_git_for_HW.pdf to download hw - Click on this link for accessing to the HW from github - https://classroom.github.com/a/7YVUNRjt\n",
    "\n",
    "2. **use `cd` in terminal to go to your home directory**\n",
    "\n",
    "3. Follow https://github.com/sungsoo-ucsb-classrooms/F22-MCDB170-Materials/blob/main/Using_git_to_download_class_materials.pdf to download course materials"
   ]
  },
  {
   "cell_type": "markdown",
   "id": "026ccf30-0882-44d1-acd9-7dea4cfb0673",
   "metadata": {},
   "source": [
    " "
   ]
  },
  {
   "cell_type": "markdown",
   "id": "39af66ab-be31-4d3f-964e-ba657e6a9057",
   "metadata": {
    "tags": []
   },
   "source": [
    "## Summary of Git for HW\n",
    "\n",
    "Run git commands in **terminal** and in your **working directory**, if you have finiehed, no need to repeat\n",
    "\n",
    "1. git config\n",
    "```\n",
    "git config --global user.email \"Your name@ucsb.edu\" \n",
    "git config --global user.name \"Claire River (Your Full Name)\"\n",
    "```\n",
    "\n",
    "2. Download homework\n",
    "```\n",
    "cd\n",
    "git clone https://address.to.your.repo\n",
    "cd YOUR_HW_DIR\n",
    "git pull\n",
    "```\n",
    "\n",
    "3. Submit homework\n",
    "```\n",
    "git add --all\n",
    "git commit –m ”some message”\n",
    "git push\n",
    "```"
   ]
  },
  {
   "cell_type": "markdown",
   "id": "f10777ef-fb3f-4580-9ba8-55e5e310686c",
   "metadata": {
    "tags": []
   },
   "source": [
    "## Git for course materails\n",
    "```\n",
    "git clone https://github.com/sungsoo-ucsb-classrooms/F22-MCDB170-Materials.git\n",
    "```\n",
    "\n",
    "### Get update weekly\n",
    "```\n",
    "cd\n",
    "cd F22-MCDB170-Materials\n",
    "git add --all\n",
    "git commit –m ”some message”\n",
    "git pull --rebase\n",
    "```"
   ]
  },
  {
   "cell_type": "markdown",
   "id": "63f6167d-ec3d-4fc6-a9c7-fbc7ec16028c",
   "metadata": {},
   "source": [
    " "
   ]
  },
  {
   "cell_type": "markdown",
   "id": "9769dd56-7226-4425-8763-2d357c11aaed",
   "metadata": {},
   "source": [
    "## Unix Command\n",
    "\n",
    "Show pathname of current directory: `pwd`\n",
    "\n",
    "List files:   `ls`\n",
    "\n",
    "Make a directory:   `mkdir directory-name`\n",
    "\n",
    "Change directory:   `cd directory-name`\n",
    "\n",
    "Change to Parent directory: `cd ..`\n",
    "\n",
    "Change directory back to home directory:   `cd`\n",
    "\n",
    "Copy a file:   `cp old-filename new-filename`\n",
    "\n",
    "Move a file:   `mv old-filename new-filename`\n",
    "\n",
    "Delete a file:   `rm filename`\n",
    "\n",
    "Delete a directory (recursively*):   `rm -rf directory-name`\n",
    "\n",
    "*All files and subdirectories are deleted\n",
    "\n",
    "**use `Tab` key for auto-complete**\n",
    "\n",
    "\n"
   ]
  },
  {
   "cell_type": "markdown",
   "id": "3f3e858d-5a96-4256-a1ce-92a0f423dfa2",
   "metadata": {},
   "source": [
    " "
   ]
  },
  {
   "cell_type": "markdown",
   "id": "3ccc0036-bdab-4eb2-b26f-b064d8818ad0",
   "metadata": {},
   "source": [
    " "
   ]
  },
  {
   "cell_type": "markdown",
   "id": "fee0ed4d-6422-4411-b6e3-8e689bc4b843",
   "metadata": {},
   "source": [
    "## print() in python\n",
    "\n",
    "### basic usage"
   ]
  },
  {
   "cell_type": "code",
   "execution_count": 1,
   "id": "123d6c8f-19c9-4472-a5b8-fd7c0a2e2a4c",
   "metadata": {},
   "outputs": [
    {
     "name": "stdout",
     "output_type": "stream",
     "text": [
      "1\n"
     ]
    }
   ],
   "source": [
    "print(1)"
   ]
  },
  {
   "cell_type": "code",
   "execution_count": 2,
   "id": "c9dd7f1b-3e46-4cbc-8aaa-e0cbe148be8b",
   "metadata": {},
   "outputs": [
    {
     "name": "stdout",
     "output_type": "stream",
     "text": [
      "10\n"
     ]
    }
   ],
   "source": [
    "print(1+9)"
   ]
  },
  {
   "cell_type": "code",
   "execution_count": 3,
   "id": "1852b800-5d58-40ab-91be-64e302fb2020",
   "metadata": {},
   "outputs": [
    {
     "name": "stdout",
     "output_type": "stream",
     "text": [
      "10 9\n"
     ]
    }
   ],
   "source": [
    "a = 10\n",
    "b = 9\n",
    "print(a,b)"
   ]
  },
  {
   "cell_type": "code",
   "execution_count": 4,
   "id": "7714df70-b00d-414a-9d89-91ab38706252",
   "metadata": {},
   "outputs": [
    {
     "name": "stdout",
     "output_type": "stream",
     "text": [
      "[1, 2, 3]\n"
     ]
    }
   ],
   "source": [
    "c = [1, 2, 3]\n",
    "print(c)"
   ]
  },
  {
   "cell_type": "markdown",
   "id": "afebabcd-33c6-4196-b414-38ee37beb4b1",
   "metadata": {},
   "source": [
    "### print a new line or a tab\n",
    "\n",
    "`\\n` - new line\n",
    "\n",
    "`\\t` - tab"
   ]
  },
  {
   "cell_type": "code",
   "execution_count": 5,
   "id": "9aa61840-6053-448c-bb3b-3c56b209a93b",
   "metadata": {},
   "outputs": [
    {
     "name": "stdout",
     "output_type": "stream",
     "text": [
      "\n",
      "\n"
     ]
    }
   ],
   "source": [
    "print('\\n')"
   ]
  },
  {
   "cell_type": "code",
   "execution_count": 6,
   "id": "2040a65e-8138-41bb-acef-ea51ce2bd9d0",
   "metadata": {},
   "outputs": [
    {
     "name": "stdout",
     "output_type": "stream",
     "text": [
      "a\n",
      "b\n"
     ]
    }
   ],
   "source": [
    "print('a\\nb')"
   ]
  },
  {
   "cell_type": "code",
   "execution_count": 7,
   "id": "349a6b65-cb9b-4b4e-a62b-324554d2b800",
   "metadata": {},
   "outputs": [
    {
     "name": "stdout",
     "output_type": "stream",
     "text": [
      "a\tb\n"
     ]
    }
   ],
   "source": [
    "print('a\\tb')"
   ]
  },
  {
   "cell_type": "markdown",
   "id": "ad42ff9f-8f8e-4f1c-897c-e36f5992b3b9",
   "metadata": {},
   "source": [
    "### format a string"
   ]
  },
  {
   "cell_type": "code",
   "execution_count": 8,
   "id": "3cecbaab-81a2-4342-a3de-1872943a69d6",
   "metadata": {},
   "outputs": [
    {
     "name": "stdout",
     "output_type": "stream",
     "text": [
      "hi, python\n"
     ]
    }
   ],
   "source": [
    "a = \"hi, {}\"\n",
    "print(a.format(\"python\"))"
   ]
  },
  {
   "cell_type": "code",
   "execution_count": 9,
   "id": "9c73a98e-a42a-4e35-94b9-bd2bf578ff67",
   "metadata": {},
   "outputs": [
    {
     "name": "stdout",
     "output_type": "stream",
     "text": [
      "I want 3 pieces of item 567 for 49.95 dollars.\n"
     ]
    }
   ],
   "source": [
    "quantity = 3\n",
    "itemno = 567\n",
    "price = 49.95\n",
    "myorder = \"I want {} pieces of item {} for {} dollars.\"\n",
    "print(myorder.format(quantity, itemno, price))"
   ]
  },
  {
   "cell_type": "code",
   "execution_count": 10,
   "id": "b6d30763-0965-4c02-8b9a-21f76254752c",
   "metadata": {},
   "outputs": [
    {
     "name": "stdout",
     "output_type": "stream",
     "text": [
      "The sequence is ['A', 'T', 'C', 'C']\n"
     ]
    }
   ],
   "source": [
    "seq = ['A', 'T', 'C', 'C']\n",
    "print(\"The sequence is {}\".format(seq))"
   ]
  },
  {
   "cell_type": "code",
   "execution_count": 3,
   "id": "861b0742-3aed-4344-8761-74b2815d257f",
   "metadata": {},
   "outputs": [
    {
     "name": "stdout",
     "output_type": "stream",
     "text": [
      "I want 3 pieces of item 567 for 49.95 dollars.\n"
     ]
    }
   ],
   "source": [
    "quantity = 3\n",
    "itemno = 567\n",
    "price = 49.95\n",
    "myorder = \"I want {a} pieces of item {b} for {c} dollars.\"\n",
    "print(myorder.format(a=quantity, b=itemno, c=price))"
   ]
  }
 ],
 "metadata": {
  "kernelspec": {
   "display_name": "Python 3 (ipykernel)",
   "language": "python",
   "name": "python3"
  },
  "language_info": {
   "codemirror_mode": {
    "name": "ipython",
    "version": 3
   },
   "file_extension": ".py",
   "mimetype": "text/x-python",
   "name": "python",
   "nbconvert_exporter": "python",
   "pygments_lexer": "ipython3",
   "version": "3.10.6"
  }
 },
 "nbformat": 4,
 "nbformat_minor": 5
}
