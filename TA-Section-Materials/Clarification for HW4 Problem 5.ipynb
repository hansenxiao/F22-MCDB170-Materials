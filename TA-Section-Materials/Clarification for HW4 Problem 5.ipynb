{
 "cells": [
  {
   "cell_type": "markdown",
   "id": "fac81cdd-65a4-4515-ac47-4adda33d9e0e",
   "metadata": {},
   "source": [
    "## Issue in the 5th question of HW4"
   ]
  },
  {
   "cell_type": "markdown",
   "id": "90f712d2-0a53-47be-9e5b-32e88b30d7a1",
   "metadata": {},
   "source": [
    "### Replace the existing first lines of examine_mutation function wit this.\n",
    "\n",
    "##### This just creates an output directory if it doesn't exist"
   ]
  },
  {
   "cell_type": "code",
   "execution_count": 2,
   "id": "e3d58359-2706-40ed-a999-1b2b5c9bad4a",
   "metadata": {},
   "outputs": [],
   "source": [
    "def examine_mutation(pos, base):\n",
    "    dna_seq_filename = os.path.join('data','lactase_gene.txt')\n",
    "    exon_position_filename = os.path.join('data', 'lactase_exon.tsv')\n",
    "    mRNA_save_filename = os.path.join('output','lactase_mRNA.txt')\n",
    "    translation_conversion_map_filename = os.path.join('data', 'conversion_map.tsv')\n",
    "    \n",
    "    # Creating the output directory\n",
    "    if not os.path.isdir(\"output/\"):\n",
    "        os.mkdir(\"output/\")"
   ]
  }
 ],
 "metadata": {
  "kernelspec": {
   "display_name": "Python 3 (ipykernel)",
   "language": "python",
   "name": "python3"
  },
  "language_info": {
   "codemirror_mode": {
    "name": "ipython",
    "version": 3
   },
   "file_extension": ".py",
   "mimetype": "text/x-python",
   "name": "python",
   "nbconvert_exporter": "python",
   "pygments_lexer": "ipython3",
   "version": "3.10.6"
  }
 },
 "nbformat": 4,
 "nbformat_minor": 5
}
