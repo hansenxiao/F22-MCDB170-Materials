{
 "cells": [
  {
   "cell_type": "markdown",
   "id": "0717756b-f42f-43a3-ba18-a9ea4feb9ef3",
   "metadata": {},
   "source": [
    "# MCDB TA Section 06"
   ]
  },
  {
   "cell_type": "markdown",
   "id": "0c3fd5e7-54c4-4476-be39-da100e8fd96c",
   "metadata": {},
   "source": [
    "## TA Office hours: Remote, zoom link on gauchospace\n",
    "\n",
    "Mon 2:30 pm-3:30 pm,\n",
    "\n",
    "Wed 2:30 pm- 3:30 pm,"
   ]
  },
  {
   "cell_type": "markdown",
   "id": "3fd917c4-4baf-451e-ba5e-94a87bccb91c",
   "metadata": {},
   "source": [
    "## Today's schedule\n",
    "\n",
    "1. Midterm Q&A\n",
    "\n",
    "2. Recap of Class\n",
    "\n",
    "3. Recap of week05"
   ]
  },
  {
   "cell_type": "markdown",
   "id": "fa5d577c-d5aa-4248-b42b-3ba04ccd95d8",
   "metadata": {},
   "source": [
    "### Class\n",
    "#### 1. Read and understand Gene.py file\n",
    "\n",
    "#### 2. Use of class\n",
    "\n",
    "- `__init__(...)`\n",
    "\n",
    "- `self`\n",
    "\n",
    "- Making a new instance\n",
    "\n",
    "- Convention of using methods with an instance\n",
    "\n",
    "This code is from the lecture."
   ]
  },
  {
   "cell_type": "code",
   "execution_count": 2,
   "id": "500c66f3-bbd0-46ea-90bf-19bed59e37d9",
   "metadata": {},
   "outputs": [],
   "source": [
    "\n",
    "class petClass():\n",
    "    def __init__(self, name, color=\"brown\"):\n",
    "        self.name = name\n",
    "        self.color = color\n",
    "    \n",
    "    def petColor(self):\n",
    "        print(self.name, 'is', self.color)\n",
    "        \n",
    "    def dye(self, color):\n",
    "        self.color = color\n",
    "        self.petColor()\n",
    "\n",
    "\n",
    "p = petClass('Puddle','gold')\n",
    "q = petClass('Border Collie', 'black and white')\n"
   ]
  },
  {
   "cell_type": "markdown",
   "id": "554438d9-1194-485f-9950-b1fec6b1beb9",
   "metadata": {},
   "source": [
    "\n",
    "\n",
    "\n",
    "Which of the following statement are False? (select all)\n",
    "\n",
    "\n",
    "\n",
    "a.\n",
    "p.petColor() will print out \"Border Collie is black and white\"\n",
    "\n",
    "\n",
    "b.\n",
    "petClass has two member variables: name and color.\n",
    "\n",
    "\n",
    "c.\n",
    "p.dye('black') will change the p.color to 'black'\n",
    "\n",
    "\n",
    "d.\n",
    "p and q are different instances of the class perClass.\n",
    "\n",
    "\n",
    "e.\n",
    "q.name is 'Puddle'\n",
    "\n"
   ]
  },
  {
   "cell_type": "markdown",
   "id": "42d3485e-b2df-45bc-ab50-ce5ba691badc",
   "metadata": {},
   "source": []
  }
 ],
 "metadata": {
  "kernelspec": {
   "display_name": "Python 3 (ipykernel)",
   "language": "python",
   "name": "python3"
  },
  "language_info": {
   "codemirror_mode": {
    "name": "ipython",
    "version": 3
   },
   "file_extension": ".py",
   "mimetype": "text/x-python",
   "name": "python",
   "nbconvert_exporter": "python",
   "pygments_lexer": "ipython3",
   "version": "3.10.6"
  }
 },
 "nbformat": 4,
 "nbformat_minor": 5
}
