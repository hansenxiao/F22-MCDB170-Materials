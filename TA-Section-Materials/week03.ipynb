{
 "cells": [
  {
   "cell_type": "markdown",
   "id": "0717756b-f42f-43a3-ba18-a9ea4feb9ef3",
   "metadata": {},
   "source": [
    "# MCDB TA Section 03"
   ]
  },
  {
   "cell_type": "markdown",
   "id": "0c3fd5e7-54c4-4476-be39-da100e8fd96c",
   "metadata": {},
   "source": [
    "## TA Office hours: Remote, zoom link on gauchospace\n",
    "\n",
    "Mon 2:30 pm-3:30 pm,\n",
    "\n",
    "Wed 2:30 pm- 3:30 pm,"
   ]
  },
  {
   "cell_type": "markdown",
   "id": "3fd917c4-4baf-451e-ba5e-94a87bccb91c",
   "metadata": {},
   "source": [
    "## Today's schedule\n",
    "\n",
    "1. How to index \"list of list\", \"list of tuples\", \"dictionary of list value\", etc\n",
    "\n",
    "2. Comprehension (list comprehension)\n",
    "\n",
    "3. Homework Q&A"
   ]
  },
  {
   "cell_type": "markdown",
   "id": "fa5d577c-d5aa-4248-b42b-3ba04ccd95d8",
   "metadata": {},
   "source": [
    "### How to index \"list of list\", \"list of tuples\", \"dictionary of list value\", etc"
   ]
  },
  {
   "cell_type": "code",
   "execution_count": null,
   "id": "72d283d7-869b-4225-8591-734a75bd230b",
   "metadata": {},
   "outputs": [],
   "source": [
    "a = [ 'myth', ('fire', 'wind', 'earth', 'water'), 'science']"
   ]
  },
  {
   "cell_type": "code",
   "execution_count": null,
   "id": "72c4962c-d04d-4207-85fb-307356577663",
   "metadata": {},
   "outputs": [],
   "source": [
    "a[1][2]"
   ]
  },
  {
   "cell_type": "code",
   "execution_count": null,
   "id": "c8512875-e41e-4e9d-a162-fa5c949eaf34",
   "metadata": {},
   "outputs": [],
   "source": [
    "b = [ [0, 1], (2, 3), {1: \"a\", 2: \"b\"} ]"
   ]
  },
  {
   "cell_type": "code",
   "execution_count": null,
   "id": "8834b32d-1c90-460c-87db-a548f816d304",
   "metadata": {},
   "outputs": [],
   "source": [
    "b[0][1]"
   ]
  },
  {
   "cell_type": "code",
   "execution_count": null,
   "id": "661cbed0-2ccd-445e-8bae-da5b825b3dfb",
   "metadata": {},
   "outputs": [],
   "source": [
    "b[2][1]"
   ]
  },
  {
   "cell_type": "markdown",
   "id": "42d3485e-b2df-45bc-ab50-ce5ba691badc",
   "metadata": {},
   "source": [
    "### Comprehension (list comprehension): Check out the W03_comprehension.pdf\n",
    "- List comprehension is an elegant way to define and create lists based on existing lists.\n",
    "\n",
    "Formula\n",
    "```\n",
    "l = []\n",
    "for {var} in {collection of items}:\n",
    "l.append({expression})\n",
    "```\n",
    "Equivalent list comprehension:\n",
    "```\n",
    "l = [{expression} for {var} in {collection of items}]\n",
    "```"
   ]
  },
  {
   "cell_type": "code",
   "execution_count": null,
   "id": "a5a1e46f-2f3a-4d78-bb16-d92455ace2c5",
   "metadata": {},
   "outputs": [],
   "source": [
    "x = [1,2,10]\n",
    "\n",
    "sqr_x = [y*y for y in x]\n",
    "\n",
    "print(sqr_x)"
   ]
  },
  {
   "cell_type": "code",
   "execution_count": null,
   "id": "4acc8b89-f9d8-40c0-85aa-9100a518a41a",
   "metadata": {},
   "outputs": [],
   "source": [
    "# Example\n",
    "\n",
    "l1 = []\n",
    "for x in range(10):\n",
    "    l1.append(x*x)\n",
    "    \n",
    "# Equivalent list comprehension \n",
    "\n",
    "l2=[x*x for x in range(10)]"
   ]
  },
  {
   "cell_type": "code",
   "execution_count": null,
   "id": "caf4cfea-a227-4ec4-9799-6fcfe8f71bff",
   "metadata": {},
   "outputs": [],
   "source": [
    "print(l1)\n",
    "print(l2)"
   ]
  },
  {
   "cell_type": "markdown",
   "id": "1fcf0f62-073c-4d12-82d1-775cd87f5ab6",
   "metadata": {},
   "source": [
    "### Conditional comprehension\n",
    "#### Formula\n",
    "```\n",
    "l = []\n",
    "for {var} in {collection of items}:\n",
    "    if {condition}:\n",
    "        l.append({expression})\n",
    "```\n",
    "#### Equivalent list comprehension\n",
    "\n",
    "```\n",
    "l = [{expression} for {var} in {collection of items} if {condition}]\n",
    "```"
   ]
  },
  {
   "cell_type": "code",
   "execution_count": null,
   "id": "23026abe-267b-45cc-885e-d1a28c40def1",
   "metadata": {},
   "outputs": [],
   "source": [
    "x = [1,2,10]\n",
    "\n",
    "sqr_even_num_in_x = [y*y for y in x if y%2 == 0]\n",
    "\n",
    "print(sqr_even_num_in_x)"
   ]
  },
  {
   "cell_type": "code",
   "execution_count": null,
   "id": "8c481c41-afe9-42d6-8607-7a84532205b2",
   "metadata": {},
   "outputs": [],
   "source": []
  }
 ],
 "metadata": {
  "kernelspec": {
   "display_name": "Python 3 (ipykernel)",
   "language": "python",
   "name": "python3"
  },
  "language_info": {
   "codemirror_mode": {
    "name": "ipython",
    "version": 3
   },
   "file_extension": ".py",
   "mimetype": "text/x-python",
   "name": "python",
   "nbconvert_exporter": "python",
   "pygments_lexer": "ipython3",
   "version": "3.10.6"
  }
 },
 "nbformat": 4,
 "nbformat_minor": 5
}
