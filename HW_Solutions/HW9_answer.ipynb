{
 "cells": [
  {
   "cell_type": "markdown",
   "metadata": {},
   "source": [
    "#### Problem 1 solution"
   ]
  },
  {
   "cell_type": "code",
   "execution_count": 4,
   "metadata": {},
   "outputs": [],
   "source": [
    "# Change the following function.\n",
    "\n",
    "# DO NOT CHANGE THE FUNCTION NAME AND ARGUMENTS!!!\n",
    "\n",
    "import numpy as np\n",
    "\n",
    "\n",
    "def get_cov( x, y ):\n",
    "    return ((x-x.mean())*(y-y.mean())).sum()/x.size\n"
   ]
  },
  {
   "cell_type": "code",
   "execution_count": 5,
   "metadata": {},
   "outputs": [
    {
     "name": "stdout",
     "output_type": "stream",
     "text": [
      "-0.16698940055760494\n"
     ]
    }
   ],
   "source": [
    "# The following code is provided for your test.\n",
    "# You can modify it as you want, to test your function.\n",
    "\n",
    "np.random.seed(100)\n",
    "x = np.random.normal(size=[100])\n",
    "y = np.random.normal(size=[100])\n",
    "\n",
    "print(get_cov(x,y))"
   ]
  },
  {
   "cell_type": "code",
   "execution_count": null,
   "metadata": {},
   "outputs": [],
   "source": []
  },
  {
   "cell_type": "markdown",
   "metadata": {},
   "source": [
    "---"
   ]
  },
  {
   "cell_type": "markdown",
   "metadata": {},
   "source": [
    "#### Problem 2 solution"
   ]
  },
  {
   "cell_type": "code",
   "execution_count": 6,
   "metadata": {},
   "outputs": [],
   "source": [
    "# Complete the following function.\n",
    "\n",
    "# DO NOT CHANGE THE FUNCTION NAME AND ARGUMENTS!!!\n",
    "\n",
    "import numpy as np\n",
    "def get_covmat( x ):\n",
    "    m,n = x.shape\n",
    "    covmat = np.zeros((n,n))\n",
    "    for i in range(n):\n",
    "        for j in range(n):\n",
    "            covmat[i,j] = get_cov( x[:,i], x[:,j])\n",
    "    \n",
    "    return covmat\n",
    "    "
   ]
  },
  {
   "cell_type": "code",
   "execution_count": 7,
   "metadata": {},
   "outputs": [
    {
     "name": "stdout",
     "output_type": "stream",
     "text": [
      "[[ 0.68112222 -0.03900667  1.26519111  0.51345778]\n",
      " [-0.03900667  0.18675067 -0.319568   -0.11719467]\n",
      " [ 1.26519111 -0.319568    3.09242489  1.28774489]\n",
      " [ 0.51345778 -0.11719467  1.28774489  0.57853156]]\n"
     ]
    }
   ],
   "source": [
    "# The following code is provided for your test.\n",
    "# You can modify it as you want, to test your function.\n",
    "\n",
    "# Iris data. See https://archive.ics.uci.edu/ml/datasets/Iris\n",
    "x = np.genfromtxt('iris.data', delimiter=',', dtype='float', usecols=[0,1,2,3])\n",
    "print(get_covmat(x))"
   ]
  },
  {
   "cell_type": "code",
   "execution_count": null,
   "metadata": {},
   "outputs": [],
   "source": []
  },
  {
   "cell_type": "markdown",
   "metadata": {},
   "source": [
    "---"
   ]
  },
  {
   "cell_type": "markdown",
   "metadata": {},
   "source": [
    "#### Problem 3 solution"
   ]
  },
  {
   "cell_type": "code",
   "execution_count": 8,
   "metadata": {},
   "outputs": [],
   "source": [
    "# Complete the following function.\n",
    "\n",
    "# DO NOT CHANGE THE FUNCTION NAME AND ARGUMENTS!!!\n",
    "\n",
    "import numpy as np\n",
    "def get_corrmat( x ):\n",
    "    m,n = x.shape\n",
    "    corrmat = np.zeros((n,n))\n",
    "    for i in range(n):\n",
    "        for j in range(n):\n",
    "            corrmat[i,j] = get_cov( x[:,i], x[:,j]) / x[:,i].std() / x[:,j].std()\n",
    "    \n",
    "    return corrmat\n",
    "    "
   ]
  },
  {
   "cell_type": "code",
   "execution_count": 10,
   "metadata": {},
   "outputs": [
    {
     "name": "stdout",
     "output_type": "stream",
     "text": [
      "[[ 1.         -0.10936925  0.87175416  0.81795363]\n",
      " [-0.10936925  1.         -0.4205161  -0.35654409]\n",
      " [ 0.87175416 -0.4205161   1.          0.9627571 ]\n",
      " [ 0.81795363 -0.35654409  0.9627571   1.        ]]\n"
     ]
    }
   ],
   "source": [
    "# The following code is provided for your test.\n",
    "# You can modify it as you want, to test your function.\n",
    "\n",
    "x = np.genfromtxt('iris.data', delimiter=',', dtype='float', usecols=[0,1,2,3])\n",
    "print(get_corrmat(x))"
   ]
  },
  {
   "cell_type": "code",
   "execution_count": null,
   "metadata": {},
   "outputs": [],
   "source": []
  }
 ],
 "metadata": {
  "kernelspec": {
   "display_name": "Python 3 (ipykernel)",
   "language": "python",
   "name": "python3"
  },
  "language_info": {
   "codemirror_mode": {
    "name": "ipython",
    "version": 3
   },
   "file_extension": ".py",
   "mimetype": "text/x-python",
   "name": "python",
   "nbconvert_exporter": "python",
   "pygments_lexer": "ipython3",
   "version": "3.10.6"
  }
 },
 "nbformat": 4,
 "nbformat_minor": 4
}
