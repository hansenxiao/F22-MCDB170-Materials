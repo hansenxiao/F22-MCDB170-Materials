{
 "cells": [
  {
   "cell_type": "markdown",
   "id": "01fe6284-42b4-4fd2-8ec1-51fbf57cc98e",
   "metadata": {
    "tags": []
   },
   "source": [
    "# Functions"
   ]
  },
  {
   "cell_type": "markdown",
   "id": "6338e0e2-ebfe-4416-9b84-5b79a40b4f85",
   "metadata": {},
   "source": [
    "## Syntax of a function\n",
    "\n",
    "- Keyword `def` that marks the start of the function header\n",
    "- A function name\n",
    "- Parameters(optional)\n",
    "- A colon `:`\n",
    "- Python statements\n",
    "- Statements must have the same indentation level\n",
    "- Return statement (optional)"
   ]
  },
  {
   "cell_type": "code",
   "execution_count": null,
   "id": "88aee201-8516-4f27-b67d-bbd61046e367",
   "metadata": {},
   "outputs": [],
   "source": [
    "def greet(name):\n",
    "    \"\"\"\n",
    "    This function greets to\n",
    "    the person passed in as\n",
    "    a parameter\n",
    "    \"\"\"\n",
    "    print(\"Hello, \" + name + \". Good morning!\")"
   ]
  },
  {
   "cell_type": "markdown",
   "id": "4497da9d-6a72-451e-ad71-bebc821f3937",
   "metadata": {},
   "source": [
    "## How to call a function"
   ]
  },
  {
   "cell_type": "code",
   "execution_count": null,
   "id": "5b503cd9-6fe5-45d4-a7ab-4d52c564e5cf",
   "metadata": {},
   "outputs": [],
   "source": [
    "greet(\"Paul\")"
   ]
  },
  {
   "cell_type": "markdown",
   "id": "cb9df267-c689-49ed-b9b6-d82938a88e97",
   "metadata": {},
   "source": [
    "## return statement\n",
    "- `return` is used to exit a function and return a value (optional)"
   ]
  },
  {
   "cell_type": "code",
   "execution_count": null,
   "id": "4498a180-140b-4a62-9797-f8a4171ad4ca",
   "metadata": {},
   "outputs": [],
   "source": [
    "def absolute_value(num):\n",
    "    \"\"\"This function returns the absolute\n",
    "    value of the entered number\"\"\"\n",
    "\n",
    "    if num >= 0:\n",
    "        return num\n",
    "    else:\n",
    "        return -num"
   ]
  },
  {
   "cell_type": "code",
   "execution_count": null,
   "id": "75f40c22-08de-4df8-a298-926ecb5598bb",
   "metadata": {},
   "outputs": [],
   "source": [
    "print(absolute_value(2))\n",
    "print(absolute_value(-4))"
   ]
  },
  {
   "cell_type": "code",
   "execution_count": null,
   "id": "6a1ff25d-a764-4863-a062-1da2191a583a",
   "metadata": {},
   "outputs": [],
   "source": [
    "def get_first_and_last(a):\n",
    "    \"\"\"This function returns the first\n",
    "    and last element in a list\"\"\"\n",
    "    return a[0], a[-1]"
   ]
  },
  {
   "cell_type": "code",
   "execution_count": null,
   "id": "90a718b2-7a3b-412f-a9dc-1a99d74867e8",
   "metadata": {},
   "outputs": [],
   "source": [
    "get_first_and_last([1,2,3])"
   ]
  },
  {
   "cell_type": "markdown",
   "id": "cdfb598f-7637-41cd-8789-e31c94adab81",
   "metadata": {},
   "source": [
    "## Function Parameters"
   ]
  },
  {
   "cell_type": "code",
   "execution_count": null,
   "id": "141dd4c1-cf89-4909-8803-1ae618d4c0b3",
   "metadata": {},
   "outputs": [],
   "source": [
    "def greet(name, msg):\n",
    "    \"\"\"This function greets to\n",
    "    the person with the provided message\"\"\"\n",
    "    print(\"Hello\", name + ', ' + msg)\n",
    "\n",
    "greet(\"Monica\", \"Good morning!\")"
   ]
  },
  {
   "cell_type": "code",
   "execution_count": null,
   "id": "c92aa124-85ac-448c-b75f-1493e307e4c5",
   "metadata": {},
   "outputs": [],
   "source": [
    "def greet(name, msg = \"Good afternoon!\"):\n",
    "    \"\"\"This function greets to\n",
    "    the person with the provided message\"\"\"\n",
    "    print(\"Hello\", name + ', ' + msg)\n",
    "\n",
    "greet(\"Monica\")"
   ]
  },
  {
   "cell_type": "markdown",
   "id": "a628bbc7-4187-4774-b6c2-832b22e0bb25",
   "metadata": {},
   "source": [
    "## Practice"
   ]
  },
  {
   "cell_type": "code",
   "execution_count": null,
   "id": "22851bb3-4756-4e51-a157-b8d2c71af871",
   "metadata": {
    "tags": []
   },
   "outputs": [],
   "source": [
    "#Q Write a function \"mul2()\" that multiply two values, and returns the result.\n"
   ]
  },
  {
   "cell_type": "code",
   "execution_count": null,
   "id": "f9d45bfb-5b4a-44ee-8467-8affe38f2e8c",
   "metadata": {
    "jupyter": {
     "source_hidden": true
    },
    "tags": []
   },
   "outputs": [],
   "source": [
    "def mul2(a,b):\n",
    "    return a*b\n",
    "\n",
    "print( mul2(2,3)  )"
   ]
  },
  {
   "cell_type": "code",
   "execution_count": null,
   "id": "5cbb0d4d-a611-4410-adf7-8bdf62171231",
   "metadata": {},
   "outputs": [],
   "source": [
    "#Q Write a function, \"mull()\" that does the following things.\n",
    "#  1. Checks if the first argument is a list. If so, prints the last element. If not print error.\n",
    "#  2. If the first argument is a list, it multiplies the 2nd argument to all elements of the first list and print them.\n",
    "#  3. This function does not return any value.\n"
   ]
  },
  {
   "cell_type": "code",
   "execution_count": null,
   "id": "fbda5f10-2a02-46e6-888d-772e16197736",
   "metadata": {
    "jupyter": {
     "source_hidden": true
    },
    "tags": []
   },
   "outputs": [],
   "source": [
    "def mull(a,b):\n",
    "    if type(a) == type(list()):\n",
    "        print(a[-1])\n",
    "        for idx in range(len(a)):\n",
    "            a[idx] *= b\n",
    "        print(a)\n",
    "    else:\n",
    "        print(\"Error: not a list\")\n",
    "\n",
    "mull([1,2,3], 4)\n",
    "print('-----------')\n",
    "mull(1,4)"
   ]
  },
  {
   "cell_type": "code",
   "execution_count": null,
   "id": "3c6f6cfa-7d50-4f55-8956-7262f5c3accc",
   "metadata": {},
   "outputs": [],
   "source": [
    "#Q Write a function \"comp2()\"\n",
    "# 1. Receives two numerical lists\n",
    "# 2. Compares elements in two lists at the same position\n",
    "# 3. If the same, print Same, otherwise, Different\n"
   ]
  },
  {
   "cell_type": "code",
   "execution_count": null,
   "id": "06ebd01d-e28b-48da-ad84-6e02b80ea765",
   "metadata": {
    "jupyter": {
     "source_hidden": true
    },
    "tags": []
   },
   "outputs": [],
   "source": [
    "def comp2(a,b):\n",
    "    for i in range(len(a)):\n",
    "        if a[i]==b[i]:\n",
    "            print(\"Same\")\n",
    "        else:\n",
    "            print(\"Different\")\n",
    "            \n",
    "comp2([1,2,3],[1,3,3])"
   ]
  },
  {
   "cell_type": "code",
   "execution_count": null,
   "id": "45b732e2-eb54-4b03-8ff8-a67a236bf1a4",
   "metadata": {},
   "outputs": [],
   "source": [
    "#Q In the function, comp2() defined above, check if the lengths of two lists are the same.\n",
    "#  If not, print an error message and finish.\n"
   ]
  },
  {
   "cell_type": "code",
   "execution_count": null,
   "id": "027d1ea8-80ad-473c-b510-5c3b2e7c1296",
   "metadata": {
    "jupyter": {
     "source_hidden": true
    },
    "tags": []
   },
   "outputs": [],
   "source": [
    "def comp2(a,b):\n",
    "    if len(a) != len(b):\n",
    "        print(\"Error: not the same length\")\n",
    "        return\n",
    "    for i in range(len(a)):\n",
    "        if a[i]==b[i]:\n",
    "            print(\"Same\")\n",
    "        else:\n",
    "            print(\"Different\")\n",
    "            \n",
    "comp2([1,2,3],[1,3,3])\n",
    "print('--------------')\n",
    "comp2([1,2,3],[1,3])"
   ]
  },
  {
   "cell_type": "code",
   "execution_count": null,
   "id": "db351ecc-9fa8-4295-9391-5148b7147fc1",
   "metadata": {},
   "outputs": [],
   "source": [
    "#Q In the function mull(a,b) above, give a devault value 1 to the argument b.\n"
   ]
  },
  {
   "cell_type": "code",
   "execution_count": null,
   "id": "b010269d-e4e8-4d0b-9a43-d2247f826c59",
   "metadata": {
    "jupyter": {
     "source_hidden": true
    },
    "tags": []
   },
   "outputs": [],
   "source": [
    "def mull(a, b = 1):\n",
    "    if type(a) == type(list()):\n",
    "        print(a[-1])\n",
    "        for idx in range(len(a)):\n",
    "            a[idx] *= b\n",
    "        print(a)\n",
    "    else:\n",
    "        print(\"Error: not a list\")\n",
    "\n",
    "mull([1,2,3], 4)\n",
    "print('-----------')\n",
    "mull(1,4)"
   ]
  },
  {
   "cell_type": "code",
   "execution_count": null,
   "id": "3fdc5ca6-2175-4f34-a268-5e5d31d57450",
   "metadata": {},
   "outputs": [],
   "source": [
    "#Q Is it possible to use mull(a,b) like below without an error?\n",
    "mull(b=4, a=[1,2,3])"
   ]
  },
  {
   "cell_type": "code",
   "execution_count": null,
   "id": "a037b48c-c6b4-41dd-a8d8-604dee2547b4",
   "metadata": {
    "jupyter": {
     "source_hidden": true
    },
    "tags": []
   },
   "outputs": [],
   "source": [
    "#Yes. The name of argument was used to avoid confusion.\n",
    "# It is exactly the same as\n",
    "mull([1,2,3], 4)"
   ]
  },
  {
   "cell_type": "code",
   "execution_count": null,
   "id": "55463527-99af-4405-895b-8053cce6b19c",
   "metadata": {},
   "outputs": [],
   "source": [
    "#Q Write a funciton, sqr(), that\n",
    "# 1. Receives a list\n",
    "# 2. Squares each element\n",
    "# 3. Does not return anything\n",
    "# 4. But the caller should see the change in the original list\n"
   ]
  },
  {
   "cell_type": "code",
   "execution_count": null,
   "id": "11b61dd4-81d2-413a-820f-5741af217988",
   "metadata": {
    "jupyter": {
     "source_hidden": true
    },
    "tags": []
   },
   "outputs": [],
   "source": [
    "# There is no special thing to do in the function because the original list will change if we don't make a copy.\n",
    "def sqr(a):\n",
    "    for i in range(len(a)):\n",
    "        a[i] *= a[i]\n",
    "        \n",
    "l = [1,2,3]\n",
    "sqr(l)\n",
    "print(l)"
   ]
  },
  {
   "cell_type": "code",
   "execution_count": null,
   "id": "02321ba1-ab2b-4573-a110-bdae98f1e246",
   "metadata": {},
   "outputs": [],
   "source": [
    "#Q Write a funciton, sqr_c(), that\n",
    "# 1. Receives a numerical list\n",
    "# 2. Squares each element\n",
    "# 3. Returns the result\n",
    "# 4. The caller should NOT see the change in the original list\n"
   ]
  },
  {
   "cell_type": "code",
   "execution_count": null,
   "id": "3c4e481c-42a9-4ef6-9371-af7b3a5fca3b",
   "metadata": {
    "jupyter": {
     "source_hidden": true
    },
    "tags": []
   },
   "outputs": [],
   "source": [
    "def sqr_c(a):\n",
    "    b = a.copy()\n",
    "    for i in range(len(b)):\n",
    "        b[i] *= b[i]\n",
    "    return b\n",
    "        \n",
    "l = [1,2,3]\n",
    "m = sqr_c(l)\n",
    "print(l)\n",
    "print(m)"
   ]
  }
 ],
 "metadata": {
  "kernelspec": {
   "display_name": "Python 3 (ipykernel)",
   "language": "python",
   "name": "python3"
  },
  "language_info": {
   "codemirror_mode": {
    "name": "ipython",
    "version": 3
   },
   "file_extension": ".py",
   "mimetype": "text/x-python",
   "name": "python",
   "nbconvert_exporter": "python",
   "pygments_lexer": "ipython3",
   "version": "3.10.6"
  }
 },
 "nbformat": 4,
 "nbformat_minor": 5
}
