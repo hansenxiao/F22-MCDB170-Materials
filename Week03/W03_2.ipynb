{
 "cells": [
  {
   "cell_type": "markdown",
   "id": "50d33799-cd68-4bd0-aebb-c70cbc54e3ee",
   "metadata": {
    "execution": {
     "iopub.execute_input": "2022-10-12T19:46:10.371009Z",
     "iopub.status.busy": "2022-10-12T19:46:10.370374Z",
     "iopub.status.idle": "2022-10-12T19:46:10.377946Z",
     "shell.execute_reply": "2022-10-12T19:46:10.376479Z",
     "shell.execute_reply.started": "2022-10-12T19:46:10.370936Z"
    }
   },
   "source": [
    "## Contd .. Functions"
   ]
  },
  {
   "cell_type": "code",
   "execution_count": 1,
   "id": "1d52beaf-519b-419b-b998-f8ecfc639a40",
   "metadata": {
    "tags": []
   },
   "outputs": [],
   "source": [
    "#Q Write a funciton, sqr_c(), that\n",
    "# 1. Receives a numerical list\n",
    "# 2. Squares each element\n",
    "# 3. Returns the result\n",
    "# 4. The caller should NOT see the change in the original list"
   ]
  },
  {
   "cell_type": "code",
   "execution_count": 2,
   "id": "00fea142-9c2d-42bd-a6e3-1d46232d63ee",
   "metadata": {
    "tags": []
   },
   "outputs": [
    {
     "name": "stdout",
     "output_type": "stream",
     "text": [
      "[1, 2, 3]\n",
      "[1, 4, 9]\n"
     ]
    }
   ],
   "source": [
    "def sqr_c(a):\n",
    "    b = a.copy()\n",
    "    for i in range(len(b)):\n",
    "        b[i] *= b[i]\n",
    "    return b\n",
    "        \n",
    "l = [1,2,3]\n",
    "m = sqr_c(l)\n",
    "print(l)\n",
    "print(m)"
   ]
  },
  {
   "cell_type": "markdown",
   "id": "ad484e2c-c015-4ccc-9159-72bed553596a",
   "metadata": {
    "execution": {
     "iopub.execute_input": "2022-10-12T19:54:47.785774Z",
     "iopub.status.busy": "2022-10-12T19:54:47.785502Z",
     "iopub.status.idle": "2022-10-12T19:54:47.788844Z",
     "shell.execute_reply": "2022-10-12T19:54:47.787824Z",
     "shell.execute_reply.started": "2022-10-12T19:54:47.785746Z"
    }
   },
   "source": [
    "## Shallow copy vs Deep copy\n",
    "\n",
    "Shallow copy only does one layer of copying. Deep copy does recursive copying and any change in sub-elements also won't be carried forwarded to original data"
   ]
  },
  {
   "cell_type": "code",
   "execution_count": 3,
   "id": "3620bdff-eef4-4265-b447-ad795c082313",
   "metadata": {
    "tags": []
   },
   "outputs": [
    {
     "name": "stdout",
     "output_type": "stream",
     "text": [
      "The original elements before shallow copying\n",
      "1 2 [3, 5] 4 \n",
      "The shallow copied list elements after udpating\n",
      "1 2 [7, 5] 10 20 \n",
      "The original elements after updating shallow copied list\n",
      "1 2 [7, 5] 4 "
     ]
    }
   ],
   "source": [
    "import copy\n",
    "\n",
    "# initializing list 1\n",
    "l1 = [1, 2, [3,5], 4]\n",
    " \n",
    "# using copy to shallow copy\n",
    "l2 = copy.copy(l1)\n",
    "\n",
    "# original elements of list\n",
    "print (\"The original elements before shallow copying\")\n",
    "for i in range(0,len(l1)):\n",
    "    print (l1[i],end=\" \")\n",
    "print(\"\\r\")\n",
    " \n",
    "# adding and element to new list\n",
    "l2[2][0] = 7  # ==> here we are updating the sub-ele of a list\n",
    "l2[3] = 10 # ==> we are updating ele of a list\n",
    "l2.append(20)\n",
    "\n",
    "# checking if change is reflected\n",
    "print (\"The shallow copied list elements after udpating\")\n",
    "for i in range(0,len(l2)):\n",
    "    print (l2[i],end=\" \")\n",
    "print(\"\\r\")\n",
    "\n",
    "# checking if change is reflected\n",
    "print (\"The original elements after updating shallow copied list\")\n",
    "for i in range(0,len( l1)):\n",
    "    print (l1[i],end=\" \")"
   ]
  },
  {
   "cell_type": "code",
   "execution_count": 4,
   "id": "bba7e97f-c9d8-4591-bf4c-c397ff2486fe",
   "metadata": {
    "tags": []
   },
   "outputs": [
    {
     "name": "stdout",
     "output_type": "stream",
     "text": [
      "The original elements before shallow copying\n",
      "1 2 [3, 5] 4 \n",
      "The deep copied list elements after udpating\n",
      "1 2 [7, 5] 10 20 \n",
      "The original elements after updating deep copied list\n",
      "1 2 [3, 5] 4 "
     ]
    }
   ],
   "source": [
    "# initializing list 1\n",
    "l1 = [1, 2, [3,5], 4]\n",
    " \n",
    "# using copy to shallow copy\n",
    "l2 = copy.deepcopy(l1)\n",
    "\n",
    "# original elements of list\n",
    "print (\"The original elements before shallow copying\")\n",
    "for i in range(0,len(l1)):\n",
    "    print (l1[i],end=\" \")\n",
    "print(\"\\r\")\n",
    " \n",
    "# adding and element to new list\n",
    "l2[2][0] = 7  # ==> here we are updating the sub-ele of a list\n",
    "l2[3] = 10 # ==> we are updating ele of a list\n",
    "l2.append(20)\n",
    "\n",
    "# checking if change is reflected\n",
    "print (\"The deep copied list elements after udpating\")\n",
    "for i in range(0,len(l2)):\n",
    "    print (l2[i],end=\" \")\n",
    "print(\"\\r\")\n",
    "\n",
    "# checking if change is reflected\n",
    "print (\"The original elements after updating deep copied list\")\n",
    "for i in range(0,len( l1)):\n",
    "    print (l1[i],end=\" \")"
   ]
  },
  {
   "cell_type": "markdown",
   "id": "b3fbfe56-b0ca-4101-a8ab-a22a3cee4396",
   "metadata": {
    "execution": {
     "iopub.execute_input": "2022-10-12T20:10:05.705351Z",
     "iopub.status.busy": "2022-10-12T20:10:05.704023Z",
     "iopub.status.idle": "2022-10-12T20:10:05.716332Z",
     "shell.execute_reply": "2022-10-12T20:10:05.714465Z",
     "shell.execute_reply.started": "2022-10-12T20:10:05.705275Z"
    }
   },
   "source": [
    "## Classes and Objects\n",
    "\n",
    "- Variables : general data variables which store some kind of data\n",
    "- Methods : They are similar to function with parameters and return but the scope (the ability to use them) is limited\n",
    "- Object : It is a collection of data variables and methods explained above\n",
    "- Class : It is a blueprint for the object i.e. it has logic written for all the variables and methods and it controls the flow of the execution\n",
    "- As many cars can be made from car's blueprint, we can create many objects from a class. An object can also be callas as an instance of class.\n",
    "- Instantiation: The process of creating an object by calling the class is called instantiation"
   ]
  },
  {
   "cell_type": "code",
   "execution_count": 5,
   "id": "5ea9e932-8139-42c7-bc22-3f74e44b5517",
   "metadata": {
    "tags": []
   },
   "outputs": [],
   "source": [
    "# typical structure of a class\n",
    "class ClassName:  \n",
    "    # list of python class variables  \n",
    "    # python class constructor  \n",
    "    # python class method definitions\n",
    "    # the below line is optional\n",
    "    pass # ==> implies do nothing"
   ]
  },
  {
   "cell_type": "code",
   "execution_count": 6,
   "id": "83c977fc-de8d-468d-a8a3-806aacd072b8",
   "metadata": {
    "tags": []
   },
   "outputs": [],
   "source": [
    "class Person:\n",
    "    '''\n",
    "    This has the skeleton of a simple person class\n",
    "    '''\n",
    "    #initializing the variables  \n",
    "    name = \"\"\n",
    "      \n",
    "    #defining constructor  \n",
    "    def __init__(self, personName, personAge):  \n",
    "        self.name = personName  \n",
    "        self.age = personAge  \n",
    "  \n",
    "    #defining class methods  \n",
    "    def showName(self):  \n",
    "        print(self.name)  \n",
    "  \n",
    "    def showAge(self):  \n",
    "        print(self.age)\n",
    "    \n",
    "    def intro(self):\n",
    "        '''\n",
    "        This function is used to create a introduction statement using both name and age of the person\n",
    "        '''\n",
    "        print(\"{}, aged {} years is one of the ethusiastic members of MCDB 170 class !!!\".format(self.name, self.age))\n",
    "          \n",
    "    #end of the class definition  "
   ]
  },
  {
   "cell_type": "markdown",
   "id": "6964416f-f200-4c20-8e58-315a816fd84b",
   "metadata": {},
   "source": [
    "Class functions that begin with double underscore __ are called special functions as they have special meaning.\n",
    "\n",
    "The $__init__()$ function is called constructor which gets called whenever a new object of that class is instantiated."
   ]
  },
  {
   "cell_type": "code",
   "execution_count": 7,
   "id": "7c11c7b1-9c3b-419d-b84d-007a663a20cb",
   "metadata": {
    "tags": []
   },
   "outputs": [
    {
     "name": "stdout",
     "output_type": "stream",
     "text": [
      "23\n",
      "Anne\n",
      "John, aged 23 years is one of the ethusiastic members of MCDB 170 class !!!\n"
     ]
    }
   ],
   "source": [
    "#Create an object of the class  \n",
    "person1 = Person(\"John\", 23)  \n",
    "#Create another object of the same class  \n",
    "person2 = Person(\"Anne\", 102)  \n",
    "#call member methods of the objects  \n",
    "person1.showAge()  \n",
    "person2.showName()\n",
    "person1.intro()"
   ]
  },
  {
   "cell_type": "code",
   "execution_count": 8,
   "id": "0d1a4951-cd78-4842-af67-4ebdf574e579",
   "metadata": {
    "tags": []
   },
   "outputs": [
    {
     "data": {
      "text/plain": [
       "'John'"
      ]
     },
     "execution_count": 8,
     "metadata": {},
     "output_type": "execute_result"
    }
   ],
   "source": [
    "# other way of accessing name, but we cant write info everytime as its code duplication\n",
    "person1.name"
   ]
  },
  {
   "cell_type": "code",
   "execution_count": 9,
   "id": "28701c56-b124-40ba-a60b-ce59c58120e2",
   "metadata": {
    "tags": []
   },
   "outputs": [
    {
     "name": "stdout",
     "output_type": "stream",
     "text": [
      "John, aged 30 years is one of the ethusiastic members of MCDB 170 class !!!\n"
     ]
    }
   ],
   "source": [
    "# trying to update the age\n",
    "person1.age = 30\n",
    "person1.intro()"
   ]
  },
  {
   "cell_type": "code",
   "execution_count": 10,
   "id": "54f3eb75-11b6-4e28-aa85-43a43603b665",
   "metadata": {
    "tags": []
   },
   "outputs": [],
   "source": [
    "# trying to create a new variable\n",
    "person1.department = \"MCDB\""
   ]
  },
  {
   "cell_type": "code",
   "execution_count": 11,
   "id": "c41cbe06-2630-47d2-b9ea-24b7e2df9def",
   "metadata": {
    "tags": []
   },
   "outputs": [
    {
     "name": "stdout",
     "output_type": "stream",
     "text": [
      "MCDB\n"
     ]
    },
    {
     "ename": "AttributeError",
     "evalue": "'Person' object has no attribute 'department'",
     "output_type": "error",
     "traceback": [
      "\u001b[0;31m---------------------------------------------------------------------------\u001b[0m",
      "\u001b[0;31mAttributeError\u001b[0m                            Traceback (most recent call last)",
      "Cell \u001b[0;32mIn [11], line 2\u001b[0m\n\u001b[1;32m      1\u001b[0m \u001b[38;5;28mprint\u001b[39m(person1\u001b[38;5;241m.\u001b[39mdepartment)\n\u001b[0;32m----> 2\u001b[0m \u001b[38;5;28mprint\u001b[39m(\u001b[43mperson2\u001b[49m\u001b[38;5;241;43m.\u001b[39;49m\u001b[43mdepartment\u001b[49m)\n",
      "\u001b[0;31mAttributeError\u001b[0m: 'Person' object has no attribute 'department'"
     ]
    }
   ],
   "source": [
    "print(person1.department)\n",
    "print(person2.department)"
   ]
  },
  {
   "cell_type": "code",
   "execution_count": 15,
   "id": "ce80deda-3e30-48e3-a7a1-dbb794596f4c",
   "metadata": {
    "tags": []
   },
   "outputs": [
    {
     "name": "stdout",
     "output_type": "stream",
     "text": [
      "102\n"
     ]
    },
    {
     "ename": "AttributeError",
     "evalue": "'Person' object has no attribute 'age'",
     "output_type": "error",
     "traceback": [
      "\u001b[0;31m---------------------------------------------------------------------------\u001b[0m",
      "\u001b[0;31mAttributeError\u001b[0m                            Traceback (most recent call last)",
      "Cell \u001b[0;32mIn [15], line 4\u001b[0m\n\u001b[1;32m      2\u001b[0m \u001b[38;5;28mprint\u001b[39m(person2\u001b[38;5;241m.\u001b[39mage)\n\u001b[1;32m      3\u001b[0m \u001b[38;5;28;01mdel\u001b[39;00m person2\u001b[38;5;241m.\u001b[39mage\n\u001b[0;32m----> 4\u001b[0m \u001b[38;5;28mprint\u001b[39m(\u001b[43mperson2\u001b[49m\u001b[38;5;241;43m.\u001b[39;49m\u001b[43mage\u001b[49m)\n",
      "\u001b[0;31mAttributeError\u001b[0m: 'Person' object has no attribute 'age'"
     ]
    }
   ],
   "source": [
    "# deleting a class variable\n",
    "print(person2.age)\n",
    "del person2.age\n",
    "print(person2.age)"
   ]
  },
  {
   "cell_type": "code",
   "execution_count": 12,
   "id": "4c0109fa-048f-49f1-a842-2b052dcb3f5f",
   "metadata": {
    "tags": []
   },
   "outputs": [
    {
     "name": "stdout",
     "output_type": "stream",
     "text": [
      "\n",
      "    This has the skeleton of a simple person class\n",
      "    \n"
     ]
    }
   ],
   "source": [
    "print(person1.__doc__)"
   ]
  },
  {
   "cell_type": "code",
   "execution_count": 13,
   "id": "a0235561-cf70-47db-9b47-492b9c36e946",
   "metadata": {
    "tags": []
   },
   "outputs": [
    {
     "data": {
      "text/plain": [
       "__main__.Person"
      ]
     },
     "execution_count": 13,
     "metadata": {},
     "output_type": "execute_result"
    }
   ],
   "source": [
    "person1.__class__"
   ]
  },
  {
   "cell_type": "code",
   "execution_count": 14,
   "id": "80bd036c-70bd-4ed0-a253-b95f68e5dc2e",
   "metadata": {
    "tags": []
   },
   "outputs": [
    {
     "data": {
      "text/plain": [
       "\u001b[0;31mType:\u001b[0m        Person\n",
       "\u001b[0;31mString form:\u001b[0m <__main__.Person object at 0x7f7c8a33b700>\n",
       "\u001b[0;31mDocstring:\u001b[0m   This has the skeleton of a simple person class\n"
      ]
     },
     "metadata": {},
     "output_type": "display_data"
    }
   ],
   "source": [
    "person1?"
   ]
  },
  {
   "cell_type": "code",
   "execution_count": 20,
   "id": "366df39b-ddc8-4c0e-a15b-53901781734a",
   "metadata": {
    "execution": {
     "iopub.execute_input": "2022-10-12T20:53:08.512195Z",
     "iopub.status.busy": "2022-10-12T20:53:08.511883Z",
     "iopub.status.idle": "2022-10-12T20:53:08.569523Z",
     "shell.execute_reply": "2022-10-12T20:53:08.569016Z",
     "shell.execute_reply.started": "2022-10-12T20:53:08.512160Z"
    },
    "tags": []
   },
   "outputs": [
    {
     "data": {
      "text/plain": [
       "\u001b[0;31mSignature:\u001b[0m \u001b[0mperson1\u001b[0m\u001b[0;34m.\u001b[0m\u001b[0mintro\u001b[0m\u001b[0;34m(\u001b[0m\u001b[0;34m)\u001b[0m\u001b[0;34m\u001b[0m\u001b[0;34m\u001b[0m\u001b[0m\n",
       "\u001b[0;31mDocstring:\u001b[0m This function is used to create a introduction statement using both name and age of the person\n",
       "\u001b[0;31mFile:\u001b[0m      ~/Downloads/Course Contents/Fall 2022/MCDB 170/<ipython-input-10-50556d65dbd3>\n",
       "\u001b[0;31mType:\u001b[0m      method\n"
      ]
     },
     "metadata": {},
     "output_type": "display_data"
    }
   ],
   "source": [
    "person1.intro?"
   ]
  },
  {
   "cell_type": "code",
   "execution_count": 16,
   "id": "a6bb095b-75cd-4c30-b507-045ba196a27a",
   "metadata": {
    "tags": []
   },
   "outputs": [
    {
     "data": {
      "text/plain": [
       "\u001b[0;31mSignature:\u001b[0m \u001b[0mperson1\u001b[0m\u001b[0;34m.\u001b[0m\u001b[0mintro\u001b[0m\u001b[0;34m(\u001b[0m\u001b[0;34m)\u001b[0m\u001b[0;34m\u001b[0m\u001b[0;34m\u001b[0m\u001b[0m\n",
       "\u001b[0;31mSource:\u001b[0m   \n",
       "    \u001b[0;32mdef\u001b[0m \u001b[0mintro\u001b[0m\u001b[0;34m(\u001b[0m\u001b[0mself\u001b[0m\u001b[0;34m)\u001b[0m\u001b[0;34m:\u001b[0m\u001b[0;34m\u001b[0m\n",
       "\u001b[0;34m\u001b[0m        \u001b[0;34m'''\u001b[0m\n",
       "\u001b[0;34m        This function is used to create a introduction statement using both name and age of the person\u001b[0m\n",
       "\u001b[0;34m        '''\u001b[0m\u001b[0;34m\u001b[0m\n",
       "\u001b[0;34m\u001b[0m        \u001b[0mprint\u001b[0m\u001b[0;34m(\u001b[0m\u001b[0;34m\"{}, aged {} years is one of the ethusiastic members of MCDB 170 class !!!\"\u001b[0m\u001b[0;34m.\u001b[0m\u001b[0mformat\u001b[0m\u001b[0;34m(\u001b[0m\u001b[0mself\u001b[0m\u001b[0;34m.\u001b[0m\u001b[0mname\u001b[0m\u001b[0;34m,\u001b[0m \u001b[0mself\u001b[0m\u001b[0;34m.\u001b[0m\u001b[0mage\u001b[0m\u001b[0;34m)\u001b[0m\u001b[0;34m)\u001b[0m\u001b[0;34m\u001b[0m\u001b[0;34m\u001b[0m\u001b[0m\n",
       "\u001b[0;31mFile:\u001b[0m      /tmp/ipykernel_107/537578347.py\n",
       "\u001b[0;31mType:\u001b[0m      method\n"
      ]
     },
     "metadata": {},
     "output_type": "display_data"
    }
   ],
   "source": [
    "person1.intro??"
   ]
  },
  {
   "cell_type": "code",
   "execution_count": 17,
   "id": "0398907a-8987-424d-8036-3231cc742b8f",
   "metadata": {
    "tags": []
   },
   "outputs": [
    {
     "name": "stdout",
     "output_type": "stream",
     "text": [
      "UCSB Campus Beachpoint\n",
      "red\n",
      "Stop & wait\n",
      "yellow\n",
      "\n",
      "UCSB Campus Beachpoint\n",
      "yellow\n",
      "Prepare to stop\n",
      "green\n",
      "\n",
      "UCSB Campus Beachpoint\n",
      "green\n",
      "Go\n",
      "red\n",
      "\n",
      "UCSB Campus Beachpoint\n",
      "tennesse honey\n",
      "Stop drinking :P\n",
      "Whisky\n",
      "\n"
     ]
    }
   ],
   "source": [
    "class TrafficLight:\n",
    "    '''This is an class traffic lights'''\n",
    "    # Class variable\n",
    "    traffic_light_address = 'UCSB Campus Beachpoint'\n",
    "    color = ''\n",
    "\n",
    "    def __init__(self, color):\n",
    "        # Instance variable assigned inside the class constructor\n",
    "        self.color = color\n",
    "\n",
    "    def action(self):\n",
    "        if self.color=='red':\n",
    "            # Instance variable assigned inside a class method\n",
    "            self.next_color = 'yellow'\n",
    "            print('Stop & wait')\n",
    "        elif self.color=='yellow':\n",
    "            self.next_color = 'green'\n",
    "            print('Prepare to stop')\n",
    "        elif self.color=='green':\n",
    "            self.next_color = 'red'\n",
    "            print('Go')\n",
    "        else:\n",
    "            self.next_color = 'Whisky'\n",
    "            print('Stop drinking :P')\n",
    "\n",
    "# Creating class objects\n",
    "for c in ['red', 'yellow', 'green', 'tennesse honey']:\n",
    "    c = TrafficLight(c)\n",
    "    print(c.traffic_light_address)\n",
    "    print(c.color)\n",
    "    c.action()\n",
    "    print(c.next_color)\n",
    "    print('\\r')"
   ]
  },
  {
   "cell_type": "markdown",
   "id": "a97e46d0-9909-4d22-a5f3-a0f2654b42ac",
   "metadata": {},
   "source": [
    "- Class variables: assigned in the class declaration but outside any method definition (including the class constructor). They are related to all object instances of that class.\n",
    "- Instance variables: assigned inside a class method or constructor definition. They are unique to each object instance of that class."
   ]
  },
  {
   "cell_type": "markdown",
   "id": "a28839cb-15ba-48ff-b74c-b956fc3f931e",
   "metadata": {
    "execution": {
     "iopub.execute_input": "2022-10-12T20:52:49.228733Z",
     "iopub.status.busy": "2022-10-12T20:52:49.228470Z",
     "iopub.status.idle": "2022-10-12T20:52:49.236923Z",
     "shell.execute_reply": "2022-10-12T20:52:49.235173Z",
     "shell.execute_reply.started": "2022-10-12T20:52:49.228707Z"
    }
   },
   "source": [
    "## Importing\n",
    "- Library : Collection of classes\n",
    "- Reusability of same piece of logic at multiple places"
   ]
  },
  {
   "cell_type": "code",
   "execution_count": 18,
   "id": "d1c39602-077c-4234-8d6d-1f17d18cd578",
   "metadata": {
    "tags": []
   },
   "outputs": [],
   "source": [
    "from custom_class import TrafficLight\n",
    "from custom_class import *\n",
    "from custom_class import TrafficLight as tada"
   ]
  },
  {
   "cell_type": "markdown",
   "id": "df9b2cd8-a9da-4795-9bce-e8f5f14eadc4",
   "metadata": {},
   "source": [
    "## Debugging"
   ]
  },
  {
   "cell_type": "code",
   "execution_count": 19,
   "id": "1946acd0-1323-4db9-92a8-55d8cf4d5d68",
   "metadata": {
    "tags": []
   },
   "outputs": [],
   "source": [
    "# Code to compute the number of vowels in a text\n",
    "\n",
    "text = \"Undergrad Biology\"\n",
    "# The ideal answer should be 5\n",
    "vowels = 0\n",
    "for i in text:\n",
    "    if(i=='a' or i=='e' or i=='l' or i=='o' or i!='u' or i=='A' or i=='E' or i=='I' or i=='O' or i=='U'):\n",
    "        vowels += 1\n",
    "# print(\"Number of vowels are:\", vowels)"
   ]
  },
  {
   "cell_type": "code",
   "execution_count": 35,
   "id": "e8775177-85e4-4aa5-b4e4-8b12f84d54f3",
   "metadata": {},
   "outputs": [],
   "source": [
    "# uncomment the below line to install ipdb\n",
    "# !pip install ipdb"
   ]
  },
  {
   "cell_type": "code",
   "execution_count": 33,
   "id": "d1658e7c-a590-49de-b4cc-c06014b18c07",
   "metadata": {
    "tags": []
   },
   "outputs": [],
   "source": [
    "import ipdb\n",
    "# ipdb.set_trace()"
   ]
  },
  {
   "cell_type": "code",
   "execution_count": 21,
   "id": "ce5924c7-0634-466d-8401-8375077127ca",
   "metadata": {
    "tags": []
   },
   "outputs": [
    {
     "name": "stdout",
     "output_type": "stream",
     "text": [
      "-25.555555555555536\n"
     ]
    }
   ],
   "source": [
    "# Funciton to compute sum of digits of a number\n",
    "\n",
    "number = 5279\n",
    "\n",
    "def num_sum(n):\n",
    "    ans = 0\n",
    "    while(n):\n",
    "        # computing the remainder\n",
    "        temp = n%10\n",
    "        # adding it to the answer\n",
    "        ans = ans - n%10\n",
    "        # dividing the number by 10\n",
    "        n/=10\n",
    "    return ans\n",
    "\n",
    "print(num_sum(number))"
   ]
  },
  {
   "cell_type": "markdown",
   "id": "63f8e949-7584-4e62-bdf3-c94fd6b41a70",
   "metadata": {},
   "source": [
    "## Recursion"
   ]
  },
  {
   "cell_type": "code",
   "execution_count": 22,
   "id": "62d827fc-c818-4351-9d71-886a49f57c9c",
   "metadata": {
    "tags": []
   },
   "outputs": [
    {
     "name": "stdout",
     "output_type": "stream",
     "text": [
      "2\n",
      "6\n",
      "120\n"
     ]
    }
   ],
   "source": [
    "# Function to compute factorial of a number\n",
    "# F(n) = n * (n-1) * (n-2) * (n-3) .... * 1\n",
    "\n",
    "def fact(n):\n",
    "    if (n == 0):\n",
    "        return 1\n",
    "    return n * fact(n-1)\n",
    "\n",
    "print(fact(2))\n",
    "print(fact(3))\n",
    "print(fact(5))"
   ]
  },
  {
   "cell_type": "markdown",
   "id": "0caaa5fe-1caa-43aa-8f7d-cb02c3ba0d59",
   "metadata": {},
   "source": [
    "## Numpy"
   ]
  },
  {
   "cell_type": "code",
   "execution_count": 23,
   "id": "d7ace72a-474e-4873-bee0-c956f63ea741",
   "metadata": {
    "tags": []
   },
   "outputs": [],
   "source": [
    "import numpy as np"
   ]
  },
  {
   "cell_type": "code",
   "execution_count": 24,
   "id": "97ea42c9-91e2-44fb-9102-47049ec0b55b",
   "metadata": {
    "tags": []
   },
   "outputs": [
    {
     "data": {
      "text/plain": [
       "array([1, 2, 3])"
      ]
     },
     "execution_count": 24,
     "metadata": {},
     "output_type": "execute_result"
    }
   ],
   "source": [
    "np.array([1, 2, 3])"
   ]
  },
  {
   "cell_type": "code",
   "execution_count": 25,
   "id": "b74cd3ac-26e7-488b-a39e-5e3f06e7b538",
   "metadata": {
    "tags": []
   },
   "outputs": [
    {
     "data": {
      "text/plain": [
       "2.0"
      ]
     },
     "execution_count": 25,
     "metadata": {},
     "output_type": "execute_result"
    }
   ],
   "source": [
    "np.mean([1, 2, 3])"
   ]
  },
  {
   "cell_type": "code",
   "execution_count": 26,
   "id": "b13af8a7-7658-4cb5-9f0f-a906bfae9198",
   "metadata": {
    "tags": []
   },
   "outputs": [
    {
     "data": {
      "text/plain": [
       "array([0., 0., 0.])"
      ]
     },
     "execution_count": 26,
     "metadata": {},
     "output_type": "execute_result"
    }
   ],
   "source": [
    "np.zeros(3)"
   ]
  },
  {
   "cell_type": "code",
   "execution_count": 27,
   "id": "bbcc3386-0d24-4743-bb05-757cab0e4668",
   "metadata": {
    "tags": []
   },
   "outputs": [
    {
     "data": {
      "text/plain": [
       "8"
      ]
     },
     "execution_count": 27,
     "metadata": {},
     "output_type": "execute_result"
    }
   ],
   "source": [
    "np.power(2, 3)"
   ]
  },
  {
   "cell_type": "code",
   "execution_count": 28,
   "id": "b6c6b9dd-df1c-4612-a28d-1722a909775e",
   "metadata": {
    "tags": []
   },
   "outputs": [
    {
     "data": {
      "text/plain": [
       "array([0, 1, 2, 3])"
      ]
     },
     "execution_count": 28,
     "metadata": {},
     "output_type": "execute_result"
    }
   ],
   "source": [
    "np.arange(4)"
   ]
  },
  {
   "cell_type": "markdown",
   "id": "8c4bbe9d-5eb0-46f5-972e-67321541815a",
   "metadata": {},
   "source": [
    "## Random"
   ]
  },
  {
   "cell_type": "code",
   "execution_count": 29,
   "id": "93477838-1c86-441a-bb23-2e0834ec1a97",
   "metadata": {
    "tags": []
   },
   "outputs": [
    {
     "name": "stdout",
     "output_type": "stream",
     "text": [
      "@t$SRwNIW$cnUrjf\n"
     ]
    }
   ],
   "source": [
    "import random\n",
    "\n",
    "my_passwd = random.choices('ABCDEFGHIJKLMNOPQRSTUVWXYZabcdefghijklmnopqrstuvwxyz0123456789*$@#%_-!',k=16)\n",
    "my_passwd = ''.join(my_passwd)\n",
    "print(my_passwd)"
   ]
  },
  {
   "cell_type": "code",
   "execution_count": 30,
   "id": "cf54c836-f6d0-4b48-aaaf-69efdf50345a",
   "metadata": {
    "tags": []
   },
   "outputs": [
    {
     "data": {
      "text/plain": [
       "[1, 5]"
      ]
     },
     "execution_count": 30,
     "metadata": {},
     "output_type": "execute_result"
    }
   ],
   "source": [
    "random.choices([1, 2, 3, 4, 5, 6, 7], k=2)"
   ]
  },
  {
   "cell_type": "code",
   "execution_count": 31,
   "id": "a748c793-1cce-415a-aeea-3c735148e918",
   "metadata": {
    "tags": []
   },
   "outputs": [],
   "source": [
    "# random.choices?"
   ]
  },
  {
   "cell_type": "code",
   "execution_count": null,
   "id": "b94e122e-2840-4645-83ff-6394a9e45137",
   "metadata": {},
   "outputs": [],
   "source": []
  },
  {
   "cell_type": "code",
   "execution_count": null,
   "id": "88bfd544-dfe4-417d-8b57-e855414a04ba",
   "metadata": {},
   "outputs": [],
   "source": []
  }
 ],
 "metadata": {
  "kernelspec": {
   "display_name": "Python 3 (ipykernel)",
   "language": "python",
   "name": "python3"
  },
  "language_info": {
   "codemirror_mode": {
    "name": "ipython",
    "version": 3
   },
   "file_extension": ".py",
   "mimetype": "text/x-python",
   "name": "python",
   "nbconvert_exporter": "python",
   "pygments_lexer": "ipython3",
   "version": "3.10.6"
  }
 },
 "nbformat": 4,
 "nbformat_minor": 5
}
